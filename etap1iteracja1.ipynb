{
 "cells": [
  {
   "cell_type": "markdown",
   "metadata": {},
   "source": [
    "# Projekt IUM. Etap 1. Iteracja 1.\n",
    "## Andrii Gamalii, Wiktor Topolski \n",
    "### Zadanie “Większość serwisów udostępniających muzykę czy filmiki, poleca coś swoim użytkownikom. Przyszedł czas, abyśmy zaczęli robić tak samo”"
   ]
  },
  {
   "cell_type": "markdown",
   "metadata": {},
   "source": [
    "i)\n",
    "definicję problemu biznesowego, zdefiniowanie zadania/zadań modelowania i wszystkich założeń, zaproponowania kryteriów sukcesu),\n",
    "ii)\n",
    "analizę danych z perspektywy realizacji tych zadań (trzeba ocenić, czy dostarczone dane są wystarczające – może czegoś brakuje, może coś trzeba poprawić, domagać się innych danych, …),"
   ]
  },
  {
   "cell_type": "markdown",
   "metadata": {},
   "source": [
    "# Definicja problemu biznesowego, definicja zadania modelowania i wszystkich założeń, propozycja kryteriów sukcesu"
   ]
  },
  {
   "cell_type": "markdown",
   "metadata": {},
   "source": [
    "## Problem biznesowy\n",
    "Polecenie utworów użytkownikom serwisu do strumieniowania muzyki"
   ]
  },
  {
   "cell_type": "markdown",
   "metadata": {},
   "source": [
    "## Zadanie modelowania\n",
    "Generacja rekomendacji na podstawie logów sesji użytkowników\n",
    "## Założenia\n",
    "Rekomendacje pojawiają się na ekranie startowym  \n",
    "Rekomendujemy 10 utworów"
   ]
  },
  {
   "cell_type": "markdown",
   "metadata": {},
   "source": [
    "## Biznesowe kryteria sukcesu\n",
    "Użytkownik wybierze 1 z 10 zaproponowanych utworów w 75% sytuacji"
   ]
  },
  {
   "cell_type": "markdown",
   "metadata": {},
   "source": [
    "# Analiza danych"
   ]
  },
  {
   "cell_type": "code",
   "execution_count": 49,
   "metadata": {},
   "outputs": [],
   "source": [
    "import pandas as pd"
   ]
  },
  {
   "cell_type": "code",
   "execution_count": 50,
   "metadata": {},
   "outputs": [],
   "source": [
    "# Wczytywanie danych z plików\n",
    "\n",
    "artists_df_orig = pd.read_json(\"./data/artists.jsonl\", lines=True)\n",
    "sessions_df_orig = pd.read_json(\"./data/sessions.jsonl\", lines=True)\n",
    "tracks_df_orig = pd.read_json(\"./data/tracks.jsonl\", lines=True)\n",
    "users_df_orig = pd.read_json(\"./data/users.jsonl\", lines=True)"
   ]
  },
  {
   "cell_type": "markdown",
   "metadata": {},
   "source": [
    "## Wykonawcy"
   ]
  },
  {
   "cell_type": "code",
   "execution_count": 90,
   "metadata": {},
   "outputs": [
    {
     "name": "stdout",
     "output_type": "stream",
     "text": [
      "Liczba rekordów 1667\n",
      "Liczba unikalnych rekordów po id 1597\n",
      "Wyniki: \n",
      "id 0\n",
      "name 0\n",
      "genres 81\n"
     ]
    }
   ],
   "source": [
    "# Sprawdzenie ile jest rekordów z brakującymi wartościami\n",
    "\n",
    "artists_df = artists_df_orig.copy(deep=True)\n",
    "print(\"Liczba rekordów\", len(artists_df))\n",
    "print(\"Liczba unikalnych rekordów po id\", len(artists_df[['id']].drop_duplicates()))\n",
    "print(\"Wyniki: \")\n",
    "for c in artists_df.columns:\n",
    "    incomplete_rows = artists_df[artists_df[[c]].isnull().any(axis=1)]\n",
    "    print(c, len(incomplete_rows))"
   ]
  },
  {
   "cell_type": "markdown",
   "metadata": {},
   "source": [
    "### Wnioski\n",
    "Niektóre rekordy mają id = -1, to powoduje, że są nieużyteczne\n",
    "- id i name: nie mają brakujących wartości\n",
    "- genres: braki w 81 rekordach, można uzupełnić na podstawie piosenek"
   ]
  },
  {
   "cell_type": "markdown",
   "metadata": {},
   "source": [
    "## Sesje"
   ]
  },
  {
   "cell_type": "code",
   "execution_count": 86,
   "metadata": {},
   "outputs": [
    {
     "name": "stdout",
     "output_type": "stream",
     "text": [
      "Liczba rekordów 3173490\n",
      "Liczba unikalnych rekordów po id 3173383\n",
      "Wyniki: \n",
      "session_id 0\n",
      "timestamp 0\n",
      "user_id 158691\n",
      "track_id 565752\n",
      "event_type 158853\n"
     ]
    }
   ],
   "source": [
    "# Sprawdzenie ile jest rekordów z brakującymi wartościami\n",
    "\n",
    "sessions_df = sessions_df_orig.copy(deep=True)\n",
    "print(\"Liczba rekordów\", len(sessions_df))\n",
    "print(\"Liczba unikalnych rekordów\", len(sessions_df.drop_duplicates()))\n",
    "print(\"Wyniki: \")\n",
    "for c in sessions_df.columns:\n",
    "    incomplete_rows = sessions_df[sessions_df[[c]].isnull().any(axis=1)]\n",
    "    print(c, len(incomplete_rows))"
   ]
  },
  {
   "cell_type": "markdown",
   "metadata": {},
   "source": [
    "Brakujących danych jest dużo...\n",
    "Trochę powtarzających się rekordów (107). Je można bez żadnych konsekwencji usunąć"
   ]
  },
  {
   "cell_type": "code",
   "execution_count": 55,
   "metadata": {},
   "outputs": [
    {
     "name": "stdout",
     "output_type": "stream",
     "text": [
      "Unikalne wartości event_type ['play' 'advertisment' 'like' 'skip' None]\n"
     ]
    }
   ],
   "source": [
    "print(\"Unikalne wartości event_type\", sessions_df['event_type'].unique())"
   ]
  },
  {
   "cell_type": "markdown",
   "metadata": {},
   "source": [
    "Niektóre rekordy zawierają wartość 'advertisment' w kolumnie event_type, są one nam nie potrzebne\n",
    "Możemy bez konsekwencji je usunąć"
   ]
  },
  {
   "cell_type": "code",
   "execution_count": 59,
   "metadata": {},
   "outputs": [
    {
     "name": "stdout",
     "output_type": "stream",
     "text": [
      "407132\n"
     ]
    }
   ],
   "source": [
    "# liczba rekordów z event_type = 'advertisment'\n",
    "\n",
    "sessions_df = sessions_df_orig.copy(deep=True)\n",
    "print(len(sessions_df[sessions_df['event_type'].isin(['advertisment'])]))"
   ]
  },
  {
   "cell_type": "markdown",
   "metadata": {},
   "source": [
    "Jest tego sporo..."
   ]
  },
  {
   "cell_type": "code",
   "execution_count": 60,
   "metadata": {},
   "outputs": [
    {
     "name": "stdout",
     "output_type": "stream",
     "text": [
      "Liczba rekordów 2766358\n",
      "Wyniki: \n",
      "session_id 0\n",
      "timestamp 0\n",
      "user_id 138255\n",
      "track_id 158620\n",
      "event_type 158853\n"
     ]
    }
   ],
   "source": [
    "# Sprawdzenie ile jest rekordów z brakującymi wartościami wyłączając takie z event_type = 'advertisment'\n",
    "\n",
    "sessions_df = sessions_df_orig.copy(deep=True)\n",
    "# Usuwanie event_type = 'advertisment'\n",
    "sessions_df = sessions_df[sessions_df['event_type'].isin(['skip', 'like', None, 'play'])]\n",
    "\n",
    "print(\"Liczba rekordów\", len(sessions_df))\n",
    "print(\"Wyniki: \")\n",
    "for c in sessions_df.columns:\n",
    "    incomplete_rows = sessions_df[sessions_df[[c]].isnull().any(axis=1)]\n",
    "    print(c, len(incomplete_rows))"
   ]
  },
  {
   "cell_type": "code",
   "execution_count": 61,
   "metadata": {},
   "outputs": [
    {
     "name": "stdout",
     "output_type": "stream",
     "text": [
      "289038\n"
     ]
    }
   ],
   "source": [
    "# liczba rekordów z brakującymi track_id lub event_type\n",
    "\n",
    "print(len(sessions_df[sessions_df[[\"track_id\", \"event_type\"]].isnull().any(axis=1)]))"
   ]
  },
  {
   "cell_type": "markdown",
   "metadata": {},
   "source": [
    "### Wnioski\n",
    "- user_id: da się wywnioskować na podstawie innego rekordu o takim samym id sesji\n",
    "- track_id i event_type: te braki powodują bezużyteczność danego rekordu oraz nieciągłość sekwencji akcji użytkownika w sesji, co powoduje, że dane dla takich sesji są mniej użyteczne. Jest to około 10% danych"
   ]
  },
  {
   "cell_type": "markdown",
   "metadata": {},
   "source": [
    "## Utwory"
   ]
  },
  {
   "cell_type": "code",
   "execution_count": 87,
   "metadata": {},
   "outputs": [
    {
     "name": "stdout",
     "output_type": "stream",
     "text": [
      "Liczba rekordów 22412\n",
      "Liczba unikalnych rekordów 22412\n",
      "Wyniki: \n",
      "id 1161\n",
      "name 1146\n",
      "popularity 1184\n",
      "duration_ms 0\n",
      "explicit 0\n",
      "id_artist 1073\n",
      "release_date 0\n",
      "danceability 0\n",
      "energy 0\n",
      "key 0\n",
      "loudness 0\n",
      "speechiness 0\n",
      "acousticness 0\n",
      "instrumentalness 0\n",
      "liveness 0\n",
      "valence 0\n",
      "tempo 0\n"
     ]
    }
   ],
   "source": [
    "# Sprawdzenie ile jest rekordów z brakującymi wartościami\n",
    "\n",
    "tracks_df = tracks_df_orig.copy(deep=True)\n",
    "print(\"Liczba rekordów\", len(tracks_df))\n",
    "print(\"Liczba unikalnych rekordów\", len(tracks_df.drop_duplicates()))\n",
    "print(\"Wyniki: \")\n",
    "for c in tracks_df.columns:\n",
    "    incomplete_rows = tracks_df[tracks_df[[c]].isnull().any(axis=1)]\n",
    "    print(c, len(incomplete_rows))"
   ]
  },
  {
   "cell_type": "markdown",
   "metadata": {},
   "source": [
    "### Wnioski\n",
    "- bez id nie jesteśmy w stanie użyć danego utworu\n",
    "- bez name nie możemy przedstawić utworu użytkownikowi\n",
    "- braki w popularity nie skutkują bezużytecznością danego rekordu\n",
    "- braki w id_artist powodują problemy z powiązaniem piosenek tego samego artysty między sobą "
   ]
  },
  {
   "cell_type": "markdown",
   "metadata": {},
   "source": [
    "## Użytkownicy"
   ]
  },
  {
   "cell_type": "code",
   "execution_count": 89,
   "metadata": {},
   "outputs": [
    {
     "name": "stdout",
     "output_type": "stream",
     "text": [
      "Liczba rekordów 1000\n",
      "Liczba unikalnych rekordów 1000\n",
      "Wyniki: \n",
      "user_id 0\n",
      "name 0\n",
      "city 0\n",
      "street 0\n",
      "favourite_genres 48\n",
      "premium_user 43\n",
      "id 945\n"
     ]
    }
   ],
   "source": [
    "# Sprawdzenie ile jest rekordów z brakującymi wartościami\n",
    "\n",
    "users_df = users_df_orig.copy(deep=True)\n",
    "print(\"Liczba rekordów\", len(users_df))\n",
    "print(\"Liczba unikalnych rekordów\", len(users_df[\"user_id\"].drop_duplicates()))\n",
    "print(\"Wyniki: \")\n",
    "for c in users_df.columns:\n",
    "    incomplete_rows = users_df[users_df[[c]].isnull().any(axis=1)]\n",
    "    print(c, len(incomplete_rows))"
   ]
  },
  {
   "cell_type": "code",
   "execution_count": 65,
   "metadata": {},
   "outputs": [
    {
     "name": "stdout",
     "output_type": "stream",
     "text": [
      "90\n"
     ]
    }
   ],
   "source": [
    "# Sprawdzenie ile rekordów mają brakujące wartości w favourite_genres albo premium_user\n",
    "\n",
    "print(len(users_df[users_df[[\"favourite_genres\", \"premium_user\"]].isnull().any(axis=1)]))"
   ]
  },
  {
   "cell_type": "markdown",
   "metadata": {},
   "source": [
    "### Wnioski\n",
    "- w 90 liniach brakuje albo favourite_genres albo premium_user, ale to nie powinno przeszkadzać w realizacji zadania rekomendacji.\n",
    "\n",
    "- nie wiadomo co znaczy atrybut id, który pojawia się 55 razy i zawsze ma wartość -1."
   ]
  },
  {
   "cell_type": "markdown",
   "metadata": {},
   "source": [
    "# WNIOSKI\n",
    "\n",
    "- Wykonawcy: \n",
    "- - potrzebne jest wprowadzenie poprawnych id dla rekordów z id = -1\n",
    "- Sesje:\n",
    "- - potrzebne dane z uzupełnionymi track_id i event_type\n",
    "- Utwory:\n",
    "- - potrzebne uzupełnienie id i name dla utworów oraz id_artist\n",
    "- Użytkownicy:\n",
    "- - potrzebna informacja o znaczeniu atrybutu id\n"
   ]
  }
 ],
 "metadata": {
  "kernelspec": {
   "display_name": "Python 3",
   "language": "python",
   "name": "python3"
  },
  "language_info": {
   "codemirror_mode": {
    "name": "ipython",
    "version": 3
   },
   "file_extension": ".py",
   "mimetype": "text/x-python",
   "name": "python",
   "nbconvert_exporter": "python",
   "pygments_lexer": "ipython3",
   "version": "3.12.0"
  }
 },
 "nbformat": 4,
 "nbformat_minor": 2
}
