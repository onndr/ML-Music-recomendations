{
 "cells": [
  {
   "cell_type": "markdown",
   "metadata": {},
   "source": [
    "# Projekt IUM. Etap 1. Iteracja 3.\n",
    "## Andrii Gamalii, Wiktor Topolski \n",
    "### Zadanie “Większość serwisów udostępniających muzykę czy filmiki, poleca coś swoim użytkownikom. Przyszedł czas, abyśmy zaczęli robić tak samo”"
   ]
  },
  {
   "cell_type": "markdown",
   "metadata": {},
   "source": [
    "# Definicja problemu biznesowego, definicja zadania modelowania i wszystkich założeń, propozycja kryteriów sukcesu"
   ]
  },
  {
   "cell_type": "markdown",
   "metadata": {},
   "source": [
    "## Problem biznesowy\n",
    "Polecenie utworów użytkownikom serwisu do strumieniowania muzyki"
   ]
  },
  {
   "cell_type": "markdown",
   "metadata": {},
   "source": [
    "## Założenia\n",
    "Rekomendacje pojawiają się na ekranie startowym  \n",
    "Rekomendujemy użytkownikowi 10 różnych utworów  \n",
    "Rekomendacje będą generowane w czasie rzeczywistym przy uruchomieniu aplikacji i odświeżeniu ekranu startowego  \n",
    "Model będzie retrenowany z nowymi danymi codziennie w nocy  "
   ]
  },
  {
   "cell_type": "markdown",
   "metadata": {},
   "source": [
    "## Zadanie modelowania\n",
    "Generacja rekomendacji na podstawie logów sesji użytkowników\n",
    "\n",
    "Dane trenujące: część wszystkich sesji do danego momentu w czasie\n",
    "\n",
    "Wejście modelu: do 50 ostatnich akcji użytkownika - traktujemy sesje użytkownika jako jedną wielką sesję  \n",
    "Wyjście modelu: 10 różnych utworów najbardziej pasujących do preferencji użytkownika   \n",
    "\n",
    "Opracowany zostanie model, który od razu generuje 10 rekomendacji  "
   ]
  },
  {
   "cell_type": "markdown",
   "metadata": {
    "collapsed": false
   },
   "source": [
    "## Kryteria sukcesu\n",
    "jak będą mierzone zaproponowane analityczne/biznesowe kryteria sukcesu? \n",
    "\n",
    "Biznesowe: użytkownicy są zadowoleni z rekomendacji  \n",
    "- Jak mierzymy: w aplikacji pytamy użytkownika czy jest zadowolony z rekomendacji  \n",
    "\n",
    "Analityczne: zarekomendowane utwory nie zostały pominięte przez użytkownika  \n",
    "- Jak mierzymy: procent rekomendowanych utworów które zostały pominięte w niedalekiej przyszłości przez danego użytkownika\n",
    "\n",
    "Biznesowe: użytkownicy wybierają rekomendacje  \n",
    "- Jak mierzymy: ilość klinęć w rekomendacje na ilość generowanych rekomendacji  \n",
    "\n",
    "Analityczne: użytkownik wybierze 1 z 10 zaproponowanych utworów  \n",
    "- Jak mierzymy: procent rekomendowanych utworów które zostały odsłuchane w niedalekiej przyszłości przez danego użytkownika"
   ]
  },
  {
   "cell_type": "markdown",
   "metadata": {},
   "source": [
    "## Przykładowe punkty odniesienia\n",
    "1. Model wybierający 10 najbardziej popularnych piosenek  \n",
    "2. Model wybierający najczęściej słuchane piosenki przez użytkowników z danymi ulubionymi gatunkami muzycznymi"
   ]
  },
  {
   "cell_type": "markdown",
   "metadata": {},
   "source": [
    "# Analiza danych"
   ]
  },
  {
   "cell_type": "code",
   "execution_count": 4,
   "metadata": {
    "ExecuteTime": {
     "end_time": "2023-11-30T18:40:34.013844600Z",
     "start_time": "2023-11-30T18:40:32.061948400Z"
    }
   },
   "outputs": [],
   "source": [
    "import pandas as pd\n",
    "import numpy as np\n",
    "import matplotlib.pyplot as plt\n",
    "from sklearn.manifold import TSNE\n",
    "\n",
    "from sklearn.feature_extraction.text import CountVectorizer"
   ]
  },
  {
   "cell_type": "code",
   "execution_count": 5,
   "metadata": {
    "collapsed": false
   },
   "outputs": [],
   "source": [
    "# Wczytywanie danych z plików\n",
    "\n",
    "artists_df_orig = pd.read_json(\"./data/artists.jsonl\", lines=True)\n",
    "sessions_df_orig = pd.read_json(\"./data/sessions.jsonl\", lines=True)\n",
    "tracks_df_orig = pd.read_json(\"./data/tracks.jsonl\", lines=True)\n",
    "users_df_orig = pd.read_json(\"./data/users.jsonl\", lines=True)"
   ]
  },
  {
   "cell_type": "markdown",
   "metadata": {},
   "source": [
    "## Wykonawcy"
   ]
  },
  {
   "cell_type": "code",
   "execution_count": 6,
   "metadata": {
    "ExecuteTime": {
     "end_time": "2023-11-30T18:40:59.046691700Z",
     "start_time": "2023-11-30T18:40:58.991822900Z"
    }
   },
   "outputs": [
    {
     "name": "stdout",
     "output_type": "stream",
     "text": [
      "                            id       name  \\\n",
      "count                     1667       1667   \n",
      "unique                    1667       1667   \n",
      "top     7jVv8c5Fj3E9VhNjxT4snq  Lil Nas X   \n",
      "freq                         1          1   \n",
      "\n",
      "                                                   genres  \n",
      "count                                                1667  \n",
      "unique                                               1357  \n",
      "top     [latin, latin hip hop, reggaeton, reggaeton fl...  \n",
      "freq                                                   15   \n",
      "\n",
      "\n",
      "Liczba rekordów 1667\n",
      "Liczba unikalnych rekordów po id 1667\n",
      "Wyniki: \n",
      "id 0\n",
      "name 0\n",
      "genres 0\n"
     ]
    }
   ],
   "source": [
    "# Sprawdzenie ile jest rekordów z brakującymi wartościami\n",
    "print(artists_df_orig.describe(), \"\\n\\n\")\n",
    "\n",
    "artists_df = artists_df_orig.copy(deep=True)\n",
    "print(\"Liczba rekordów\", len(artists_df))\n",
    "print(\"Liczba unikalnych rekordów po id\", len(artists_df[['id']].drop_duplicates()))\n",
    "print(\"Wyniki: \")\n",
    "for c in artists_df.columns:\n",
    "    incomplete_rows = artists_df[artists_df[[c]].isnull().any(axis=1)]\n",
    "    print(c, len(incomplete_rows))"
   ]
  },
  {
   "cell_type": "markdown",
   "metadata": {},
   "source": [
    "Tabela wykonawcy zawiera id, informacje o nazwie i gatunkach danego wykonawcy"
   ]
  },
  {
   "cell_type": "markdown",
   "metadata": {},
   "source": [
    "### Wnioski\n",
    "Niektóre nazwy mają zakodowane znaki w Unicode. Aplikacja korzystająca z systemu rekomendacji musi takie nazwy móc obsługiwać.  \n",
    "Atrybuty:\n",
    "- Kolumna genres może być przydatna by grupować podobnych artystów"
   ]
  },
  {
   "cell_type": "markdown",
   "metadata": {
    "collapsed": false
   },
   "source": [
    "## Sesje"
   ]
  },
  {
   "cell_type": "code",
   "execution_count": null,
   "metadata": {
    "ExecuteTime": {
     "end_time": "2023-11-30T18:41:02.245755800Z",
     "start_time": "2023-11-30T18:40:59.003936100Z"
    }
   },
   "outputs": [
    {
     "name": "stdout",
     "output_type": "stream",
     "text": [
      "                            timestamp                track_id event_type\n",
      "count                        11934332                10328740   11934332\n",
      "unique                            NaN                   15009          4\n",
      "top                               NaN  4xqrdfXkTW4T0RauPLv3WA       play\n",
      "freq                              NaN                    6797    6350963\n",
      "mean    2022-12-08 17:34:16.376276736                     NaN        NaN\n",
      "min               2021-12-07 23:26:42                     NaN        NaN\n",
      "25%     2022-06-09 11:26:57.768750080                     NaN        NaN\n",
      "50%     2022-12-08 20:10:12.039000064                     NaN        NaN\n",
      "75%     2023-06-09 11:45:42.025999872                     NaN        NaN\n",
      "max        2023-12-08 11:57:44.407000                     NaN        NaN \n",
      "\n",
      "\n",
      "Liczba rekordów 11934332\n",
      "Liczba unikalnych rekordów 11932802\n",
      "Wyniki: \n",
      "session_id 0\n",
      "timestamp 0\n",
      "user_id 0\n",
      "track_id 1605592\n",
      "event_type 0\n"
     ]
    }
   ],
   "source": [
    "# Sprawdzenie ile jest rekordów z brakującymi wartościami\n",
    "print(sessions_df_orig.describe(exclude=[np.number]), \"\\n\\n\")\n",
    "\n",
    "sessions_df = sessions_df_orig.copy(deep=True)\n",
    "print(\"Liczba rekordów\", len(sessions_df))\n",
    "\n",
    "print(\"Liczba unikalnych rekordów\", len(sessions_df.drop_duplicates()))\n",
    "print(\"Wyniki: \")\n",
    "for c in sessions_df.columns:\n",
    "    incomplete_rows = sessions_df[sessions_df[[c]].isnull().any(axis=1)]\n",
    "    print(c, len(incomplete_rows))"
   ]
  },
  {
   "cell_type": "markdown",
   "metadata": {},
   "source": [
    "Tabela sesje zawiera id sesji, znaczniki czasowe, id użytkownika, id utworu i typ zdarzenia.  \n",
    "Jest sporo powtarzających się rekordów. Sprawdźmy, co to za rekordy."
   ]
  },
  {
   "cell_type": "code",
   "execution_count": null,
   "metadata": {},
   "outputs": [
    {
     "name": "stdout",
     "output_type": "stream",
     "text": [
      "Liczba nieunikalnych rekordów 1530\n",
      "          session_id               timestamp  user_id track_id    event_type\n",
      "6884             691 2022-08-31 12:30:41.615      101     None  advertisment\n",
      "11148           1030 2022-07-26 13:16:11.709      102     None  advertisment\n",
      "20041           1321 2023-11-26 13:55:50.617      102     None  advertisment\n",
      "22979           1422 2022-05-19 15:42:45.577      102     None  advertisment\n",
      "26279           1529 2023-05-21 21:21:11.324      102     None  advertisment\n",
      "...              ...                     ...      ...      ...           ...\n",
      "11812657      555630 2022-09-08 08:13:21.273     1092     None  advertisment\n",
      "11842308      557029 2023-09-02 20:55:29.081     1094     None  advertisment\n",
      "11865451      558319 2023-07-01 16:29:18.891     1095     None  advertisment\n",
      "11907990      560720 2022-05-30 02:28:00.118     1098     None  advertisment\n",
      "11909464      560801 2023-01-26 08:34:24.503     1098     None  advertisment\n",
      "\n",
      "[1530 rows x 5 columns]\n",
      "                            timestamp track_id    event_type\n",
      "count                            1530        0          1530\n",
      "unique                            NaN        0             1\n",
      "top                               NaN      NaN  advertisment\n",
      "freq                              NaN      NaN          1530\n",
      "mean    2022-12-12 18:29:03.682134528      NaN           NaN\n",
      "min        2021-12-08 01:14:54.164000      NaN           NaN\n",
      "25%     2022-06-16 05:17:34.638749952      NaN           NaN\n",
      "50%     2022-12-17 17:20:04.831500032      NaN           NaN\n",
      "75%     2023-06-10 15:07:03.163500032      NaN           NaN\n",
      "max        2023-12-08 09:12:25.103000      NaN           NaN \n",
      "\n",
      "\n"
     ]
    }
   ],
   "source": [
    "# jakie są nieunikalne rekordy\n",
    "duplicates = sessions_df[sessions_df.duplicated(keep=\"first\")]\n",
    "print(\"Liczba nieunikalnych rekordów\", len(duplicates))\n",
    "print(duplicates)\n",
    "\n",
    "print(duplicates.describe(exclude=[np.number]), \"\\n\\n\")"
   ]
  },
  {
   "cell_type": "markdown",
   "metadata": {},
   "source": [
    "Te powtarzające się rekordy mają event_type advertisement, więc i tak ich nie użyjemy, nie musimy się tym martwić. Dane są OK"
   ]
  },
  {
   "cell_type": "code",
   "execution_count": null,
   "metadata": {
    "ExecuteTime": {
     "end_time": "2023-11-30T18:41:02.383003100Z",
     "start_time": "2023-11-30T18:41:02.226055500Z"
    }
   },
   "outputs": [
    {
     "name": "stdout",
     "output_type": "stream",
     "text": [
      "Unikalne wartości event_type ['play' 'advertisment' 'like' 'skip']\n"
     ]
    }
   ],
   "source": [
    "print(\"Unikalne wartości event_type\", sessions_df['event_type'].unique())"
   ]
  },
  {
   "cell_type": "markdown",
   "metadata": {},
   "source": [
    "Niektóre rekordy zawierają wartość 'advertisment' w kolumnie event_type, są one nam nie potrzebne\n",
    "Możemy bez konsekwencji je usunąć"
   ]
  },
  {
   "cell_type": "code",
   "execution_count": null,
   "metadata": {
    "ExecuteTime": {
     "end_time": "2023-11-30T18:41:02.712797500Z",
     "start_time": "2023-11-30T18:41:02.384006600Z"
    }
   },
   "outputs": [
    {
     "name": "stdout",
     "output_type": "stream",
     "text": [
      "1605592\n"
     ]
    }
   ],
   "source": [
    "# liczba rekordów z event_type = 'advertisment'\n",
    "\n",
    "sessions_df = sessions_df_orig.copy(deep=True)\n",
    "print(len(sessions_df[sessions_df['event_type'].isin(['advertisment'])]))"
   ]
  },
  {
   "cell_type": "markdown",
   "metadata": {},
   "source": [
    "Jest tego sporo..."
   ]
  },
  {
   "cell_type": "code",
   "execution_count": null,
   "metadata": {
    "ExecuteTime": {
     "end_time": "2023-11-30T18:41:03.844931100Z",
     "start_time": "2023-11-30T18:41:02.714796500Z"
    }
   },
   "outputs": [
    {
     "name": "stdout",
     "output_type": "stream",
     "text": [
      "Liczba rekordów 10328740\n",
      "Wyniki: \n",
      "session_id 0\n",
      "timestamp 0\n",
      "user_id 0\n",
      "track_id 0\n",
      "event_type 0\n"
     ]
    }
   ],
   "source": [
    "# Sprawdzenie ile jest rekordów z brakującymi wartościami wyłączając takie z event_type = 'advertisment'\n",
    "\n",
    "sessions_df = sessions_df_orig.copy(deep=True)\n",
    "# Usuwanie event_type = 'advertisment'\n",
    "sessions_df = sessions_df[sessions_df['event_type'].isin(['skip', 'like', None, 'play'])]\n",
    "\n",
    "print(\"Liczba rekordów\", len(sessions_df))\n",
    "print(\"Wyniki: \")\n",
    "for c in sessions_df.columns:\n",
    "    incomplete_rows = sessions_df[sessions_df[[c]].isnull().any(axis=1)]\n",
    "    print(c, len(incomplete_rows))"
   ]
  },
  {
   "cell_type": "code",
   "execution_count": null,
   "metadata": {
    "ExecuteTime": {
     "end_time": "2023-11-30T18:41:04.211203400Z",
     "start_time": "2023-11-30T18:41:03.805954900Z"
    }
   },
   "outputs": [
    {
     "name": "stdout",
     "output_type": "stream",
     "text": [
      "0\n"
     ]
    }
   ],
   "source": [
    "# liczba rekordów z brakującymi track_id lub event_type\n",
    "# TODO skończyliśmy na pierwszym punkcie z eksploracji danych\n",
    "print(len(sessions_df[sessions_df[[\"track_id\", \"event_type\"]].isnull().any(axis=1)]))"
   ]
  },
  {
   "cell_type": "markdown",
   "metadata": {},
   "source": [
    "### Wnioski\n",
    "Kluczowa tabela do postrojenia systemu. "
   ]
  },
  {
   "cell_type": "markdown",
   "metadata": {},
   "source": [
    "## Utwory"
   ]
  },
  {
   "cell_type": "code",
   "execution_count": null,
   "metadata": {
    "ExecuteTime": {
     "end_time": "2023-11-30T18:41:04.294535500Z",
     "start_time": "2023-11-30T18:41:04.213198Z"
    }
   },
   "outputs": [
    {
     "name": "stdout",
     "output_type": "stream",
     "text": [
      "         popularity   duration_ms      explicit  danceability        energy  \\\n",
      "count  22412.000000  2.241200e+04  22412.000000  22412.000000  22412.000000   \n",
      "mean      61.375602  2.301383e+05      0.166607      0.599096      0.648017   \n",
      "std        8.048246  7.209562e+04      0.372633      0.158259      0.209577   \n",
      "min       51.000000  3.062200e+04      0.000000      0.000000      0.000103   \n",
      "25%       55.000000  1.914930e+05      0.000000      0.495000      0.508000   \n",
      "50%       60.000000  2.206670e+05      0.000000      0.608000      0.672000   \n",
      "75%       67.000000  2.562400e+05      0.000000      0.715000      0.816000   \n",
      "max       99.000000  4.120258e+06      1.000000      0.980000      0.999000   \n",
      "\n",
      "                key      loudness   speechiness  acousticness  \\\n",
      "count  22412.000000  22412.000000  22412.000000  22412.000000   \n",
      "mean       5.278824     -7.196227      0.082914      0.267758   \n",
      "std        3.558813      3.738098      0.089317      0.276111   \n",
      "min        0.000000    -44.410000      0.000000      0.000001   \n",
      "25%        2.000000     -8.614500      0.033900      0.029800   \n",
      "50%        5.000000     -6.393000      0.046300      0.165000   \n",
      "75%        8.000000     -4.850000      0.086000      0.455000   \n",
      "max       11.000000      0.642000      0.944000      0.996000   \n",
      "\n",
      "       instrumentalness      liveness       valence         tempo  \n",
      "count      22412.000000  22412.000000  22412.000000  22412.000000  \n",
      "mean           0.040220      0.193141      0.518000    121.911945  \n",
      "std            0.152828      0.167943      0.244477     29.615254  \n",
      "min            0.000000      0.012000      0.000000      0.000000  \n",
      "25%            0.000000      0.094400      0.325000     97.988000  \n",
      "50%            0.000003      0.125000      0.512000    120.041000  \n",
      "75%            0.000523      0.240000      0.713000    140.078000  \n",
      "max            0.998000      0.997000      0.991000    220.099000   \n",
      "\n",
      "\n",
      "Liczba rekordów 22412\n",
      "Liczba unikalnych rekordów 22412\n",
      "Wyniki: \n",
      "id 0\n",
      "name 0\n",
      "popularity 0\n",
      "duration_ms 0\n",
      "explicit 0\n",
      "id_artist 0\n",
      "release_date 0\n",
      "danceability 0\n",
      "energy 0\n",
      "key 0\n",
      "loudness 0\n",
      "speechiness 0\n",
      "acousticness 0\n",
      "instrumentalness 0\n",
      "liveness 0\n",
      "valence 0\n",
      "tempo 0\n"
     ]
    }
   ],
   "source": [
    "# Sprawdzenie ile jest rekordów z brakującymi wartościami\n",
    "print(tracks_df_orig.describe(), \"\\n\\n\")\n",
    "\n",
    "tracks_df = tracks_df_orig.copy(deep=True)\n",
    "print(\"Liczba rekordów\", len(tracks_df))\n",
    "print(\"Liczba unikalnych rekordów\", len(tracks_df.drop_duplicates()))\n",
    "print(\"Wyniki: \")\n",
    "for c in tracks_df.columns:\n",
    "    incomplete_rows = tracks_df[tracks_df[[c]].isnull().any(axis=1)]\n",
    "    print(c, len(incomplete_rows))"
   ]
  },
  {
   "cell_type": "markdown",
   "metadata": {},
   "source": [
    "Tabela utwory zawiera id utworu, nazwę utworu, popularność utworu, długość utworu, czy jest wulgarna, id artysty, data wydania i parametry opisujące sam utwór"
   ]
  },
  {
   "cell_type": "markdown",
   "metadata": {},
   "source": [
    "### Wnioski\n",
    "- wartości atrybutów popularity, key, tempo i loudness nie są z zakresu [0,1], trzeba będzie je znormalizować przed trenowaniem na etapie preprocessingu danych.\n",
    "- wszystkie atrybuty zostaną poddane normalizacji."
   ]
  },
  {
   "cell_type": "markdown",
   "metadata": {},
   "source": [
    "## Użytkownicy"
   ]
  },
  {
   "cell_type": "code",
   "execution_count": null,
   "metadata": {
    "ExecuteTime": {
     "end_time": "2023-11-30T18:41:04.344006200Z",
     "start_time": "2023-11-30T18:41:04.296532100Z"
    }
   },
   "outputs": [
    {
     "name": "stdout",
     "output_type": "stream",
     "text": [
      "           user_id  name  city  street\n",
      "count  1000.000000   0.0   0.0     0.0\n",
      "mean    600.500000   NaN   NaN     NaN\n",
      "std     288.819436   NaN   NaN     NaN\n",
      "min     101.000000   NaN   NaN     NaN\n",
      "25%     350.750000   NaN   NaN     NaN\n",
      "50%     600.500000   NaN   NaN     NaN\n",
      "75%     850.250000   NaN   NaN     NaN\n",
      "max    1100.000000   NaN   NaN     NaN \n",
      "\n",
      "\n",
      "Liczba rekordów 1000\n",
      "Liczba unikalnych rekordów 1000\n",
      "Wyniki: \n",
      "user_id 0\n",
      "name 1000\n",
      "city 1000\n",
      "street 1000\n",
      "favourite_genres 0\n",
      "premium_user 0\n"
     ]
    }
   ],
   "source": [
    "# Sprawdzenie ile jest rekordów z brakującymi wartościami\n",
    "print(users_df_orig.describe(), \"\\n\\n\")\n",
    "\n",
    "users_df = users_df_orig.copy(deep=True)\n",
    "print(\"Liczba rekordów\", len(users_df))\n",
    "print(\"Liczba unikalnych rekordów\", len(users_df[\"user_id\"].drop_duplicates()))\n",
    "print(\"Wyniki: \")\n",
    "for c in users_df.columns:\n",
    "    incomplete_rows = users_df[users_df[[c]].isnull().any(axis=1)]\n",
    "    print(c, len(incomplete_rows))"
   ]
  },
  {
   "cell_type": "markdown",
   "metadata": {},
   "source": [
    "Tabela użytkownicy zawiera id użytkownika, imię, adres, ulubione gatunki, czy jest użytkownikiem premium"
   ]
  },
  {
   "cell_type": "markdown",
   "metadata": {},
   "source": [
    "### Wnioski\n",
    "- nie ma informacji o imieniu, mieście i ulicy, ich nie potrzebujemy. Ale przydałaby się informacja o państwie użytkownika w przypadku rekomendacji dla nowego użytkownika. "
   ]
  },
  {
   "cell_type": "markdown",
   "metadata": {},
   "source": [
    "# Najważniejsze uwagi dla klienta na temat danych"
   ]
  }
 ],
 "metadata": {
  "kernelspec": {
   "display_name": "Python 3",
   "language": "python",
   "name": "python3"
  },
  "language_info": {
   "codemirror_mode": {
    "name": "ipython",
    "version": 3
   },
   "file_extension": ".py",
   "mimetype": "text/x-python",
   "name": "python",
   "nbconvert_exporter": "python",
   "pygments_lexer": "ipython3",
   "version": "3.11.5"
  }
 },
 "nbformat": 4,
 "nbformat_minor": 2
}
