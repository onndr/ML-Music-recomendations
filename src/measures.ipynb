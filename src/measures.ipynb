{
 "cells": [
  {
   "cell_type": "code",
   "outputs": [
    {
     "name": "stdout",
     "output_type": "stream",
     "text": [
      "Requirement already satisfied: scikit-learn in c:\\users\\onndr\\appdata\\local\\programs\\python\\python312\\lib\\site-packages (1.4.0)\n",
      "Requirement already satisfied: numpy<2.0,>=1.19.5 in c:\\users\\onndr\\appdata\\local\\programs\\python\\python312\\lib\\site-packages (from scikit-learn) (1.26.2)\n",
      "Requirement already satisfied: scipy>=1.6.0 in c:\\users\\onndr\\appdata\\local\\programs\\python\\python312\\lib\\site-packages (from scikit-learn) (1.11.4)\n",
      "Requirement already satisfied: joblib>=1.2.0 in c:\\users\\onndr\\appdata\\local\\programs\\python\\python312\\lib\\site-packages (from scikit-learn) (1.3.2)\n",
      "Requirement already satisfied: threadpoolctl>=2.0.0 in c:\\users\\onndr\\appdata\\local\\programs\\python\\python312\\lib\\site-packages (from scikit-learn) (3.2.0)\n"
     ]
    },
    {
     "name": "stderr",
     "output_type": "stream",
     "text": [
      "\n",
      "[notice] A new release of pip is available: 23.3.1 -> 23.3.2\n",
      "[notice] To update, run: C:\\Users\\onndr\\AppData\\Local\\Programs\\Python\\Python312\\python.exe -m pip install --upgrade pip\n"
     ]
    }
   ],
   "source": [
    "!pip install scikit-learn"
   ],
   "metadata": {
    "collapsed": false,
    "ExecuteTime": {
     "end_time": "2024-01-20T16:15:28.889067900Z",
     "start_time": "2024-01-20T16:15:26.042963600Z"
    }
   },
   "id": "160cfe0f39c023c",
   "execution_count": 1
  },
  {
   "cell_type": "code",
   "outputs": [],
   "source": [
    "from model_test import count_analytical_measures_and_compare\n",
    "\n",
    "iters = 100\n",
    "n_songs_to_predict = 10\n",
    "# those are params for analytical measures\n",
    "n_future_skips = 30\n",
    "n_future_plays = 30\n",
    "knn_metrics, mpt_metrics, mlt_metrics, times = count_analytical_measures_and_compare(iters, n_songs_to_predict, n_future_skips, n_future_plays)\n",
    "\n",
    "avg_knn_not_skipped = sum(knn_metrics[\"am_not_skipped\"])/len(knn_metrics[\"am_not_skipped\"]) * 100\n",
    "avg_knn_chosen = sum(knn_metrics[\"am_chosen\"])/len(knn_metrics[\"am_chosen\"]) * 100\n",
    "avg_mpt_not_skipped = sum(mpt_metrics[\"am_not_skipped\"])/len(mpt_metrics[\"am_not_skipped\"]) * 100\n",
    "avg_mpt_chosen = sum(mpt_metrics[\"am_chosen\"])/len(mpt_metrics[\"am_chosen\"]) * 100\n",
    "avg_mlt_not_skipped = sum(mlt_metrics[\"am_not_skipped\"])/len(mlt_metrics[\"am_not_skipped\"]) * 100\n",
    "avg_mlt_chosen = sum(mlt_metrics[\"am_chosen\"])/len(mlt_metrics[\"am_chosen\"]) * 100\n",
    "print(\"KNN KA1: \", \"%.1f\" % avg_knn_not_skipped, \"%\")\n",
    "print(\"KNN KA2: \", \"%.1f\" % avg_knn_chosen, \"%\")\n",
    "print(\"MPT KA1: \", \"%.1f\" % avg_mpt_not_skipped, \"%\")\n",
    "print(\"MPT KA2: \", \"%.1f\" % avg_mpt_chosen, \"%\")\n",
    "print(\"MLT KA1: \", \"%.1f\" % avg_mlt_not_skipped, \"%\")\n",
    "print(\"MLT KA2: \", \"%.1f\" % avg_mlt_chosen, \"%\")\n",
    "\n",
    "print(\"Times: \", times)"
   ],
   "metadata": {
    "collapsed": false,
    "is_executing": true,
    "ExecuteTime": {
     "start_time": "2024-01-20T16:18:53.265251100Z"
    }
   },
   "id": "e4f3c78886268f06",
   "execution_count": null
  }
 ],
 "metadata": {
  "kernelspec": {
   "display_name": "Python 3",
   "language": "python",
   "name": "python3"
  },
  "language_info": {
   "codemirror_mode": {
    "name": "ipython",
    "version": 2
   },
   "file_extension": ".py",
   "mimetype": "text/x-python",
   "name": "python",
   "nbconvert_exporter": "python",
   "pygments_lexer": "ipython2",
   "version": "2.7.6"
  }
 },
 "nbformat": 4,
 "nbformat_minor": 5
}
