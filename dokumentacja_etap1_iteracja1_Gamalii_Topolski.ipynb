{
 "cells": [
  {
   "cell_type": "markdown",
   "metadata": {},
   "source": [
    "# Projekt IUM. Etap 1. Iteracja 1.\n",
    "## Andrii Gamalii, Wiktor Topolski \n",
    "### Zadanie “Większość serwisów udostępniających muzykę czy filmiki, poleca coś swoim użytkownikom. Przyszedł czas, abyśmy zaczęli robić tak samo”"
   ]
  },
  {
   "cell_type": "markdown",
   "metadata": {},
   "source": [
    "# Definicja problemu biznesowego, definicja zadania modelowania i wszystkich założeń, propozycja kryteriów sukcesu"
   ]
  },
  {
   "cell_type": "markdown",
   "metadata": {},
   "source": [
    "## Problem biznesowy\n",
    "Polecenie utworów użytkownikom serwisu do strumieniowania muzyki"
   ]
  },
  {
   "cell_type": "markdown",
   "metadata": {},
   "source": [
    "## Zadanie modelowania\n",
    "Generacja rekomendacji na podstawie logów sesji użytkowników\n",
    "## Założenia\n",
    "Rekomendacje pojawiają się na ekranie startowym  \n",
    "Rekomendujemy użytkownikowi 10 różnych utworów"
   ]
  },
  {
   "cell_type": "markdown",
   "metadata": {
    "collapsed": false
   },
   "source": [
    "## Kryteria sukcesu\n",
    "Biznesowe: użytkownicy są zadowoleni z rekomendacji  \n",
    "Analityczne: zarekomendowany utwór nie został pominięty przez użytkownika  \n",
    "\n",
    "Biznesowe: użytkownicy wybierają rekomendacje  \n",
    "Analityczne: użytkownik wybierze 1 z 10 zaproponowanych utworów w 50% sytuacji"
   ]
  },
  {
   "cell_type": "markdown",
   "metadata": {},
   "source": [
    "# Analiza danych"
   ]
  },
  {
   "cell_type": "code",
   "execution_count": 12,
   "metadata": {
    "ExecuteTime": {
     "end_time": "2023-11-30T18:40:34.013844600Z",
     "start_time": "2023-11-30T18:40:32.061948400Z"
    }
   },
   "outputs": [],
   "source": [
    "import pandas as pd\n",
    "import numpy"
   ]
  },
  {
   "cell_type": "code",
   "execution_count": 2,
   "metadata": {
    "collapsed": false
   },
   "outputs": [],
   "source": [
    "# Wczytywanie danych z plików\n",
    "\n",
    "artists_df_orig = pd.read_json(\"./data/artists.jsonl\", lines=True)\n",
    "sessions_df_orig = pd.read_json(\"./data/sessions.jsonl\", lines=True)\n",
    "tracks_df_orig = pd.read_json(\"./data/tracks.jsonl\", lines=True)\n",
    "users_df_orig = pd.read_json(\"./data/users.jsonl\", lines=True)"
   ]
  },
  {
   "cell_type": "markdown",
   "metadata": {},
   "source": [
    "## Wykonawcy"
   ]
  },
  {
   "cell_type": "code",
   "execution_count": 9,
   "metadata": {
    "ExecuteTime": {
     "end_time": "2023-11-30T18:40:59.046691700Z",
     "start_time": "2023-11-30T18:40:58.991822900Z"
    }
   },
   "outputs": [
    {
     "name": "stdout",
     "output_type": "stream",
     "text": [
      "          id       name                                             genres\n",
      "count   1667       1667                                               1586\n",
      "unique  1597       1667                                               1293\n",
      "top       -1  Lil Nas X  [latin, latin hip hop, reggaeton, reggaeton fl...\n",
      "freq      71          1                                                 14 \n",
      "\n",
      "\n",
      "Liczba rekordów 1667\n",
      "Liczba unikalnych rekordów po id 1597\n",
      "Wyniki: \n",
      "id 0\n",
      "name 0\n",
      "genres 81\n"
     ]
    }
   ],
   "source": [
    "# Sprawdzenie ile jest rekordów z brakującymi wartościami\n",
    "print(artists_df_orig.describe(), \"\\n\\n\")\n",
    "\n",
    "artists_df = artists_df_orig.copy(deep=True)\n",
    "print(\"Liczba rekordów\", len(artists_df))\n",
    "print(\"Liczba unikalnych rekordów po id\", len(artists_df[['id']].drop_duplicates()))\n",
    "print(\"Wyniki: \")\n",
    "for c in artists_df.columns:\n",
    "    incomplete_rows = artists_df[artists_df[[c]].isnull().any(axis=1)]\n",
    "    print(c, len(incomplete_rows))"
   ]
  },
  {
   "cell_type": "markdown",
   "metadata": {},
   "source": [
    "Tabela wykonawcy zawiera id, informacje o nazwie i gatunkach danego wykonawcy"
   ]
  },
  {
   "cell_type": "markdown",
   "metadata": {},
   "source": [
    "### Wnioski\n",
    "Niektóre rekordy mają id = -1, to powoduje, że są nieużyteczne\n",
    "- id i name: nie mają brakujących wartości\n",
    "- genres: braki w 81 rekordach, można uzupełnić na podstawie utworów"
   ]
  },
  {
   "cell_type": "markdown",
   "metadata": {
    "collapsed": false
   },
   "source": [
    "## Sesje"
   ]
  },
  {
   "cell_type": "code",
   "execution_count": 13,
   "metadata": {
    "ExecuteTime": {
     "end_time": "2023-11-30T18:41:02.245755800Z",
     "start_time": "2023-11-30T18:40:59.003936100Z"
    }
   },
   "outputs": [
    {
     "name": "stdout",
     "output_type": "stream",
     "text": [
      "                            timestamp                track_id event_type\n",
      "count                         3173490                 2607738    3014637\n",
      "unique                            NaN                   22412          4\n",
      "top                               NaN  7feSbMqJGg9yL0s6ypxy9S       play\n",
      "freq                              NaN                     175    1668688\n",
      "mean    2022-11-09 12:10:40.449315840                     NaN        NaN\n",
      "min        2021-11-09 23:09:17.591000                     NaN        NaN\n",
      "25%     2022-05-11 01:54:52.632499968                     NaN        NaN\n",
      "50%     2022-11-08 14:26:41.807500032                     NaN        NaN\n",
      "75%        2023-05-11 00:00:15.888000                     NaN        NaN\n",
      "max        2023-11-10 10:53:05.583000                     NaN        NaN \n",
      "\n",
      "\n",
      "Liczba rekordów 3173490\n",
      "Liczba unikalnych rekordów 3173383\n",
      "Wyniki: \n",
      "session_id 0\n",
      "timestamp 0\n",
      "user_id 158691\n",
      "track_id 565752\n",
      "event_type 158853\n"
     ]
    }
   ],
   "source": [
    "# Sprawdzenie ile jest rekordów z brakującymi wartościami\n",
    "print(sessions_df_orig.describe(exclude=[numpy.number]), \"\\n\\n\")\n",
    "\n",
    "sessions_df = sessions_df_orig.copy(deep=True)\n",
    "print(\"Liczba rekordów\", len(sessions_df))\n",
    "print(\"Liczba unikalnych rekordów\", len(sessions_df.drop_duplicates()))\n",
    "print(\"Wyniki: \")\n",
    "for c in sessions_df.columns:\n",
    "    incomplete_rows = sessions_df[sessions_df[[c]].isnull().any(axis=1)]\n",
    "    print(c, len(incomplete_rows))"
   ]
  },
  {
   "cell_type": "markdown",
   "metadata": {},
   "source": [
    "Tabela sesje zawiera id sesji, znaczniki czasowe, id użytkownika, id utworu i typ zdarzenia"
   ]
  },
  {
   "cell_type": "markdown",
   "metadata": {},
   "source": [
    "Brakujących danych jest dużo...\n",
    "Trochę powtarzających się rekordów (107). Je można bez żadnych konsekwencji usunąć"
   ]
  },
  {
   "cell_type": "code",
   "execution_count": 6,
   "metadata": {
    "ExecuteTime": {
     "end_time": "2023-11-30T18:41:02.383003100Z",
     "start_time": "2023-11-30T18:41:02.226055500Z"
    }
   },
   "outputs": [
    {
     "name": "stdout",
     "output_type": "stream",
     "text": [
      "Unikalne wartości event_type ['play' 'advertisment' 'like' 'skip' None]\n"
     ]
    }
   ],
   "source": [
    "print(\"Unikalne wartości event_type\", sessions_df['event_type'].unique())"
   ]
  },
  {
   "cell_type": "markdown",
   "metadata": {},
   "source": [
    "Niektóre rekordy zawierają wartość 'advertisment' w kolumnie event_type, są one nam nie potrzebne\n",
    "Możemy bez konsekwencji je usunąć"
   ]
  },
  {
   "cell_type": "code",
   "execution_count": 7,
   "metadata": {
    "ExecuteTime": {
     "end_time": "2023-11-30T18:41:02.712797500Z",
     "start_time": "2023-11-30T18:41:02.384006600Z"
    }
   },
   "outputs": [
    {
     "name": "stdout",
     "output_type": "stream",
     "text": [
      "407132\n"
     ]
    }
   ],
   "source": [
    "# liczba rekordów z event_type = 'advertisment'\n",
    "\n",
    "sessions_df = sessions_df_orig.copy(deep=True)\n",
    "print(len(sessions_df[sessions_df['event_type'].isin(['advertisment'])]))"
   ]
  },
  {
   "cell_type": "markdown",
   "metadata": {},
   "source": [
    "Jest tego sporo..."
   ]
  },
  {
   "cell_type": "code",
   "execution_count": 8,
   "metadata": {
    "ExecuteTime": {
     "end_time": "2023-11-30T18:41:03.844931100Z",
     "start_time": "2023-11-30T18:41:02.714796500Z"
    }
   },
   "outputs": [
    {
     "name": "stdout",
     "output_type": "stream",
     "text": [
      "Liczba rekordów 2766358\n",
      "Wyniki: \n",
      "session_id 0\n",
      "timestamp 0\n",
      "user_id 138255\n",
      "track_id 158620\n",
      "event_type 158853\n"
     ]
    }
   ],
   "source": [
    "# Sprawdzenie ile jest rekordów z brakującymi wartościami wyłączając takie z event_type = 'advertisment'\n",
    "\n",
    "sessions_df = sessions_df_orig.copy(deep=True)\n",
    "# Usuwanie event_type = 'advertisment'\n",
    "sessions_df = sessions_df[sessions_df['event_type'].isin(['skip', 'like', None, 'play'])]\n",
    "\n",
    "print(\"Liczba rekordów\", len(sessions_df))\n",
    "print(\"Wyniki: \")\n",
    "for c in sessions_df.columns:\n",
    "    incomplete_rows = sessions_df[sessions_df[[c]].isnull().any(axis=1)]\n",
    "    print(c, len(incomplete_rows))"
   ]
  },
  {
   "cell_type": "code",
   "execution_count": 9,
   "metadata": {
    "ExecuteTime": {
     "end_time": "2023-11-30T18:41:04.211203400Z",
     "start_time": "2023-11-30T18:41:03.805954900Z"
    }
   },
   "outputs": [
    {
     "name": "stdout",
     "output_type": "stream",
     "text": [
      "289038\n"
     ]
    }
   ],
   "source": [
    "# liczba rekordów z brakującymi track_id lub event_type\n",
    "\n",
    "print(len(sessions_df[sessions_df[[\"track_id\", \"event_type\"]].isnull().any(axis=1)]))"
   ]
  },
  {
   "cell_type": "markdown",
   "metadata": {},
   "source": [
    "### Wnioski\n",
    "- user_id: da się wywnioskować na podstawie innego rekordu o takim samym id sesji\n",
    "- track_id i event_type: te braki powodują bezużyteczność danego rekordu oraz nieciągłość sekwencji akcji użytkownika w sesji, co powoduje, że dane dla takich sesji są mniej użyteczne. Jest to około 10% danych"
   ]
  },
  {
   "cell_type": "markdown",
   "metadata": {},
   "source": [
    "## Utwory"
   ]
  },
  {
   "cell_type": "code",
   "execution_count": 14,
   "metadata": {
    "ExecuteTime": {
     "end_time": "2023-11-30T18:41:04.294535500Z",
     "start_time": "2023-11-30T18:41:04.213198Z"
    }
   },
   "outputs": [
    {
     "name": "stdout",
     "output_type": "stream",
     "text": [
      "         popularity   duration_ms      explicit  danceability        energy  \\\n",
      "count  21228.000000  2.241200e+04  22412.000000  22412.000000  22412.000000   \n",
      "mean      61.363953  2.301383e+05      0.166607      0.599096      0.648017   \n",
      "std        8.038227  7.209562e+04      0.372633      0.158259      0.209577   \n",
      "min       51.000000  3.062200e+04      0.000000      0.000000      0.000103   \n",
      "25%       55.000000  1.914930e+05      0.000000      0.495000      0.508000   \n",
      "50%       60.000000  2.206670e+05      0.000000      0.608000      0.672000   \n",
      "75%       67.000000  2.562400e+05      0.000000      0.715000      0.816000   \n",
      "max       99.000000  4.120258e+06      1.000000      0.980000      0.999000   \n",
      "\n",
      "                key      loudness   speechiness  acousticness  \\\n",
      "count  22412.000000  22412.000000  22412.000000  22412.000000   \n",
      "mean       5.278824     -7.196227      0.082914      0.267758   \n",
      "std        3.558813      3.738098      0.089317      0.276111   \n",
      "min        0.000000    -44.410000      0.000000      0.000001   \n",
      "25%        2.000000     -8.614500      0.033900      0.029800   \n",
      "50%        5.000000     -6.393000      0.046300      0.165000   \n",
      "75%        8.000000     -4.850000      0.086000      0.455000   \n",
      "max       11.000000      0.642000      0.944000      0.996000   \n",
      "\n",
      "       instrumentalness      liveness       valence         tempo  \n",
      "count      22412.000000  22412.000000  22412.000000  22412.000000  \n",
      "mean           0.040220      0.193141      0.518000    121.911945  \n",
      "std            0.152828      0.167943      0.244477     29.615254  \n",
      "min            0.000000      0.012000      0.000000      0.000000  \n",
      "25%            0.000000      0.094400      0.325000     97.988000  \n",
      "50%            0.000003      0.125000      0.512000    120.041000  \n",
      "75%            0.000523      0.240000      0.713000    140.078000  \n",
      "max            0.998000      0.997000      0.991000    220.099000   \n",
      "\n",
      "\n",
      "Liczba rekordów 22412\n",
      "Liczba unikalnych rekordów 22412\n",
      "Wyniki: \n",
      "id 1161\n",
      "name 1146\n",
      "popularity 1184\n",
      "duration_ms 0\n",
      "explicit 0\n",
      "id_artist 1073\n",
      "release_date 0\n",
      "danceability 0\n",
      "energy 0\n",
      "key 0\n",
      "loudness 0\n",
      "speechiness 0\n",
      "acousticness 0\n",
      "instrumentalness 0\n",
      "liveness 0\n",
      "valence 0\n",
      "tempo 0\n"
     ]
    }
   ],
   "source": [
    "# Sprawdzenie ile jest rekordów z brakującymi wartościami\n",
    "print(tracks_df_orig.describe(), \"\\n\\n\")\n",
    "\n",
    "tracks_df = tracks_df_orig.copy(deep=True)\n",
    "print(\"Liczba rekordów\", len(tracks_df))\n",
    "print(\"Liczba unikalnych rekordów\", len(tracks_df.drop_duplicates()))\n",
    "print(\"Wyniki: \")\n",
    "for c in tracks_df.columns:\n",
    "    incomplete_rows = tracks_df[tracks_df[[c]].isnull().any(axis=1)]\n",
    "    print(c, len(incomplete_rows))"
   ]
  },
  {
   "cell_type": "markdown",
   "metadata": {},
   "source": [
    "Tabela utwory zawiera id utworu, nazwę utworu, popularność utworu, długość utworu, czy jest wulgarna, id artysty, data wydania i parametry opisujące sam utwór"
   ]
  },
  {
   "cell_type": "markdown",
   "metadata": {},
   "source": [
    "### Wnioski\n",
    "- bez id nie jesteśmy w stanie użyć danego utworu\n",
    "- bez name nie możemy przedstawić utworu użytkownikowi\n",
    "- braki w popularity nie skutkują bezużytecznością danego rekordu\n",
    "- braki w id_artist powodują problemy z powiązaniem utworów tego samego artysty między sobą \n",
    "\n",
    "- wartości atrybutów key i tempo nie są z zakresu [0,1], trzeba je znormalizować  "
   ]
  },
  {
   "cell_type": "markdown",
   "metadata": {},
   "source": [
    "## Użytkownicy"
   ]
  },
  {
   "cell_type": "code",
   "execution_count": 15,
   "metadata": {
    "ExecuteTime": {
     "end_time": "2023-11-30T18:41:04.344006200Z",
     "start_time": "2023-11-30T18:41:04.296532100Z"
    }
   },
   "outputs": [
    {
     "name": "stdout",
     "output_type": "stream",
     "text": [
      "           user_id  premium_user    id\n",
      "count  1000.000000    957.000000  55.0\n",
      "mean    600.500000      0.225705  -1.0\n",
      "std     288.819436      0.418265   0.0\n",
      "min     101.000000      0.000000  -1.0\n",
      "25%     350.750000      0.000000  -1.0\n",
      "50%     600.500000      0.000000  -1.0\n",
      "75%     850.250000      0.000000  -1.0\n",
      "max    1100.000000      1.000000  -1.0 \n",
      "\n",
      "\n",
      "Liczba rekordów 1000\n",
      "Liczba unikalnych rekordów 1000\n",
      "Wyniki: \n",
      "user_id 0\n",
      "name 0\n",
      "city 0\n",
      "street 0\n",
      "favourite_genres 48\n",
      "premium_user 43\n",
      "id 945\n"
     ]
    }
   ],
   "source": [
    "# Sprawdzenie ile jest rekordów z brakującymi wartościami\n",
    "print(users_df_orig.describe(), \"\\n\\n\")\n",
    "\n",
    "users_df = users_df_orig.copy(deep=True)\n",
    "print(\"Liczba rekordów\", len(users_df))\n",
    "print(\"Liczba unikalnych rekordów\", len(users_df[\"user_id\"].drop_duplicates()))\n",
    "print(\"Wyniki: \")\n",
    "for c in users_df.columns:\n",
    "    incomplete_rows = users_df[users_df[[c]].isnull().any(axis=1)]\n",
    "    print(c, len(incomplete_rows))"
   ]
  },
  {
   "cell_type": "markdown",
   "metadata": {},
   "source": [
    "Tabela użytkownicy zawiera id użytkownika, imię, adres, ulubione gatunki, czy jest użytkownikiem premium oraz pole id, które albo jest puste albo ma wartość -1"
   ]
  },
  {
   "cell_type": "code",
   "execution_count": 12,
   "metadata": {
    "ExecuteTime": {
     "end_time": "2023-11-30T18:41:04.444122900Z",
     "start_time": "2023-11-30T18:41:04.311683800Z"
    }
   },
   "outputs": [
    {
     "name": "stdout",
     "output_type": "stream",
     "text": [
      "90\n"
     ]
    }
   ],
   "source": [
    "# Sprawdzenie ile rekordów mają brakujące wartości w favourite_genres albo premium_user\n",
    "\n",
    "print(len(users_df[users_df[[\"favourite_genres\", \"premium_user\"]].isnull().any(axis=1)]))"
   ]
  },
  {
   "cell_type": "markdown",
   "metadata": {},
   "source": [
    "### Wnioski\n",
    "- w 90 liniach brakuje albo favourite_genres albo premium_user, ale to nie powinno przeszkadzać w realizacji zadania rekomendacji.\n",
    "\n",
    "- nie wiadomo co znaczy atrybut id, który pojawia się 55 razy i zawsze ma wartość -1."
   ]
  },
  {
   "cell_type": "markdown",
   "metadata": {},
   "source": [
    "# Najważniejsze uwagi dla klienta na temat danych\n",
    "\n",
    "Wykonawcy: \n",
    "- potrzebne jest wprowadzenie poprawnych id dla rekordów z id = -1  \n",
    "\n",
    "Sesje:  \n",
    "- potrzebne dane z uzupełnionymi track_id i event_type  \n",
    "\n",
    "Utwory:  \n",
    "- potrzebne uzupełnienie id i name dla utworów oraz id_artist  \n",
    "\n",
    "Użytkownicy:  \n",
    "- potrzebna informacja o znaczeniu atrybutu id  \n"
   ]
  }
 ],
 "metadata": {
  "kernelspec": {
   "display_name": "Python 3",
   "language": "python",
   "name": "python3"
  },
  "language_info": {
   "codemirror_mode": {
    "name": "ipython",
    "version": 3
   },
   "file_extension": ".py",
   "mimetype": "text/x-python",
   "name": "python",
   "nbconvert_exporter": "python",
   "pygments_lexer": "ipython3",
   "version": "3.12.0"
  }
 },
 "nbformat": 4,
 "nbformat_minor": 2
}
