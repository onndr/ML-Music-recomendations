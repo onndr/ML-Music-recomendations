{
 "cells": [
  {
   "cell_type": "code",
   "execution_count": 42,
   "metadata": {},
   "outputs": [],
   "source": [
    "import pandas as pd"
   ]
  },
  {
   "cell_type": "code",
   "execution_count": 43,
   "metadata": {},
   "outputs": [],
   "source": [
    "artists_df_orig = pd.read_json(\"./data/artists.jsonl\", lines=True)\n",
    "sessions_df_orig = pd.read_json(\"./data/sessions.jsonl\", lines=True)\n",
    "tracks_df_orig = pd.read_json(\"./data/tracks.jsonl\", lines=True)\n",
    "users_df_orig = pd.read_json(\"./data/users.jsonl\", lines=True)"
   ]
  },
  {
   "cell_type": "code",
   "execution_count": 44,
   "metadata": {},
   "outputs": [
    {
     "name": "stdout",
     "output_type": "stream",
     "text": [
      "id 0\n",
      "name 0\n",
      "genres 81\n"
     ]
    }
   ],
   "source": [
    "artists_df = artists_df_orig.copy(deep=True)\n",
    "for c in artists_df.columns:\n",
    "    incomplete_rows = artists_df[artists_df[[c]].isnull().any(axis=1)]\n",
    "    print(c, len(incomplete_rows))"
   ]
  },
  {
   "cell_type": "markdown",
   "metadata": {},
   "source": [
    "artists.jsonl:\n",
    "- id i name nie mają brakujących wartości\n",
    "- genres można uzupełnić na podstawie piosenek, braki w 81 rekordach "
   ]
  },
  {
   "cell_type": "code",
   "execution_count": 45,
   "metadata": {},
   "outputs": [
    {
     "name": "stdout",
     "output_type": "stream",
     "text": [
      "Liczba rekordów 3173490\n",
      "session_id 0\n",
      "timestamp 0\n",
      "user_id 158691\n",
      "track_id 565752\n",
      "event_type 158853\n"
     ]
    }
   ],
   "source": [
    "sessions_df = sessions_df_orig.copy(deep=True)\n",
    "# incomplete_rows = sessions_df[sessions_df[['id', 'name']].isnull().any(axis=1)]\n",
    "# print(\"Incomplete Rows:\")\n",
    "# print(incomplete_rows)\n",
    "\n",
    "print(\"Liczba rekordów\", len(sessions_df))\n",
    "for c in sessions_df.columns:\n",
    "    incomplete_rows = sessions_df[sessions_df[[c]].isnull().any(axis=1)]\n",
    "    print(c, len(incomplete_rows))"
   ]
  },
  {
   "cell_type": "code",
   "execution_count": 46,
   "metadata": {},
   "outputs": [
    {
     "name": "stdout",
     "output_type": "stream",
     "text": [
      "Unikalne wartości event_type ['play' 'advertisment' 'like' 'skip' None]\n",
      "Liczba rekordów 2766358\n",
      "session_id 0\n",
      "timestamp 0\n",
      "user_id 138255\n",
      "track_id 158620\n",
      "event_type 158853\n"
     ]
    }
   ],
   "source": [
    "sessions_df = sessions_df_orig.copy(deep=True)\n",
    "\n",
    "print(\"Unikalne wartości event_type\", sessions_df['event_type'].unique())\n",
    "sessions_df = sessions_df[sessions_df['event_type'].isin(['skip', 'like', None, 'play'])]\n",
    "\n",
    "print(\"Liczba rekordów\", len(sessions_df))\n",
    "for c in sessions_df.columns:\n",
    "    incomplete_rows = sessions_df[sessions_df[[c]].isnull().any(axis=1)]\n",
    "    print(c, len(incomplete_rows))"
   ]
  },
  {
   "cell_type": "markdown",
   "metadata": {},
   "source": [
    "Na 3173490 rekordów:\n",
    "\n",
    "dużo rekordów (>20k) mają event_type = \"advertisment\" -> nie są potrzebne \n"
   ]
  },
  {
   "cell_type": "code",
   "execution_count": 47,
   "metadata": {},
   "outputs": [
    {
     "name": "stdout",
     "output_type": "stream",
     "text": [
      "Incomplete Rows:\n",
      "                           id  \\\n",
      "8                        None   \n",
      "10     2WaYW84yWij5NSCpgSeU2R   \n",
      "13     0gE63HwMeWgK30ONO4witM   \n",
      "14                       None   \n",
      "31     5ueyLj6e6oVaTY0KQ6yLaA   \n",
      "...                       ...   \n",
      "22377  3zYkiaVV22ZjeZPS1YrFRa   \n",
      "22382                    None   \n",
      "22403  3JJYIoJ5FyY9E0DGjr7SXF   \n",
      "22404  54j7EaJPDmSZYcNYvLSJ78   \n",
      "22407  0LcNMuOiULmxJK3bdHTfDF   \n",
      "\n",
      "                                                    name  popularity  \\\n",
      "8      In The Wee Small Hours Of The Morning - Remast...        60.0   \n",
      "10           You Make Me Feel So Young - Remastered 1998         NaN   \n",
      "13                                                  None        57.0   \n",
      "14                                            My Romance        55.0   \n",
      "31                                                  None        60.0   \n",
      "...                                                  ...         ...   \n",
      "22377                                          Svartsjuk        52.0   \n",
      "22382                                Sätter Dom På Plats        65.0   \n",
      "22403                                               None        62.0   \n",
      "22404                                               None        66.0   \n",
      "22407                                               None        65.0   \n",
      "\n",
      "       duration_ms  explicit               id_artist release_date  \\\n",
      "8           180933         0  1Mxqyy3pSjf8kZZL4QVxS0         1955   \n",
      "10          177400         0  1Mxqyy3pSjf8kZZL4QVxS0      1956-03   \n",
      "13          423493         0  5V0MlUE1Bft0mbLlND7FJz   1956-01-01   \n",
      "14          224227         0  5V0MlUE1Bft0mbLlND7FJz   1956-01-01   \n",
      "31          117080         0  43ZHCT0cAZBISjO8DG9PnE   1958-03-21   \n",
      "...            ...       ...                     ...          ...   \n",
      "22377       202685         1                    None   2020-01-10   \n",
      "22382       187200         1  0kKygNaCQjqVLrImIftRDJ   2021-02-05   \n",
      "22403       194755         0  5JZ7CnR6gTvEMKX4g70Amv   2018-05-31   \n",
      "22404       184460         0  2jnIB6XdLvnJUeNTy5A0J2   2018-02-01   \n",
      "22407       214987         0  7gAppWoH7pcYmphCVTXkzs   2019-04-19   \n",
      "\n",
      "       danceability  energy  key  loudness  speechiness  acousticness  \\\n",
      "8             0.290  0.0874    0   -16.119       0.0346        0.8560   \n",
      "10            0.577  0.3060    9   -11.559       0.0427        0.3830   \n",
      "13            0.344  0.1080    5   -16.631       0.0475        0.9710   \n",
      "14            0.184  0.2920    7   -12.246       0.0312        0.8780   \n",
      "31            0.624  0.4680   10   -12.162       0.1320        0.8810   \n",
      "...             ...     ...  ...       ...          ...           ...   \n",
      "22377         0.810  0.6180    8    -5.378       0.2310        0.1830   \n",
      "22382         0.740  0.5450    8   -11.001       0.2910        0.4790   \n",
      "22403         0.696  0.6930    3    -4.640       0.0440        0.1750   \n",
      "22404         0.624  0.7850    8    -3.337       0.0498        0.0629   \n",
      "22407         0.537  0.6470    2    -7.370       0.0519        0.1680   \n",
      "\n",
      "       instrumentalness  liveness  valence    tempo  \n",
      "8              0.000957    0.1090   0.0734  114.997  \n",
      "10             0.000000    0.1800   0.5680  125.166  \n",
      "13             0.000000    0.0961   0.2630   61.188  \n",
      "14             0.000258    0.3460   0.1430   75.630  \n",
      "31             0.000006    0.1440   0.9520   74.139  \n",
      "...                 ...       ...      ...      ...  \n",
      "22377          0.000000    0.0852   0.6790  154.130  \n",
      "22382          0.000000    0.1100   0.1970  100.216  \n",
      "22403          0.000000    0.1220   0.6010  126.025  \n",
      "22404          0.000000    0.1350   0.5930  163.929  \n",
      "22407          0.000000    0.1080   0.5310   79.770  \n",
      "\n",
      "[4230 rows x 17 columns]\n"
     ]
    }
   ],
   "source": [
    "tracks_df = tracks_df_orig.copy(deep=True)\n",
    "incomplete_rows = tracks_df[tracks_df[tracks_df.columns].isnull().any(axis=1)]\n",
    "print(\"Incomplete Rows:\")\n",
    "print(incomplete_rows)"
   ]
  },
  {
   "cell_type": "markdown",
   "metadata": {},
   "source": [
    "tracks.jsonl:\n",
    "- id: 1161 linii z brakiem\n",
    "- name: 1146 linii z brakiem\n",
    "- id i name: w 64 liniach brakuje obu wartości\n",
    "w sumie 2243 brakuje albo id albo name\n",
    "\n",
    "bez id nie jesteśmy w stanie użyć danego utworu\n",
    "bez nazwy nie możemy przedstawić utworu użytkownikowi"
   ]
  },
  {
   "cell_type": "code",
   "execution_count": 48,
   "metadata": {},
   "outputs": [
    {
     "name": "stdout",
     "output_type": "stream",
     "text": [
      "Incomplete Rows:\n",
      "     user_id                  name      city                 street  \\\n",
      "2        103        Kornelia Witka    Gdynia     al. Kościuszki 587   \n",
      "30       131          Karol Tarach    Kraków        aleja Kreta 272   \n",
      "49       150       Roksana Ścibior    Kraków    pl. Wojciecha 95/32   \n",
      "69       170  Marcelina Nazarewicz  Szczecin    plac Popiełuszki 93   \n",
      "87       188           Natan Gołas    Poznań     plac Działkowa 637   \n",
      "..       ...                   ...       ...                    ...   \n",
      "888      989          Bartek Damek  Szczecin          pl. Orkana 51   \n",
      "916     1017          Kamila Zadka    Poznań          al. Fredry 97   \n",
      "939     1040        Tadeusz Kołpak  Warszawa        al. Wiosenna 04   \n",
      "957     1058      Kajetan Gmurczyk  Szczecin  pl. Głowackiego 55/52   \n",
      "981     1082           Inga Wojtak   Wrocław  plac Warszawska 04/66   \n",
      "\n",
      "                                     favourite_genres  premium_user   id  \n",
      "2                                                None           0.0  NaN  \n",
      "30                    [adult standards, r&b, hip hop]           NaN -1.0  \n",
      "49                    [folk rock, tropical, nu metal]           NaN  NaN  \n",
      "69                                               None           0.0  NaN  \n",
      "87                                               None           0.0  NaN  \n",
      "..                                                ...           ...  ...  \n",
      "888     [permanent wave, alternative metal, pop rock]           NaN  NaN  \n",
      "916  [regional mexican, urban contemporary, tropical]           NaN  NaN  \n",
      "939                                              None           0.0  NaN  \n",
      "957                                              None           0.0  NaN  \n",
      "981                                              None           0.0  NaN  \n",
      "\n",
      "[90 rows x 7 columns]\n"
     ]
    }
   ],
   "source": [
    "users_df = users_df_orig.copy(deep=True)\n",
    "incomplete_rows = users_df[users_df[users_df.columns[:-1]].isnull().any(axis=1)]\n",
    "print(\"Incomplete Rows:\")\n",
    "print(incomplete_rows)\n"
   ]
  },
  {
   "cell_type": "markdown",
   "metadata": {},
   "source": [
    "w 90 liniach brakuje albo favourite_genres albo premium_user\n",
    "ale to nie powinno przeszkadzać w realizacji zadania rekomendacji\n",
    "\n",
    "nie wiadomo co znaczy atrybut id, który pojawia się 55 razy i zawsze ma wartość -1"
   ]
  }
 ],
 "metadata": {
  "kernelspec": {
   "display_name": "Python 3",
   "language": "python",
   "name": "python3"
  },
  "language_info": {
   "codemirror_mode": {
    "name": "ipython",
    "version": 3
   },
   "file_extension": ".py",
   "mimetype": "text/x-python",
   "name": "python",
   "nbconvert_exporter": "python",
   "pygments_lexer": "ipython3",
   "version": "3.12.0"
  }
 },
 "nbformat": 4,
 "nbformat_minor": 2
}
